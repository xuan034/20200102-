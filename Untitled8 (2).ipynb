{
  "nbformat": 4,
  "nbformat_minor": 0,
  "metadata": {
    "colab": {
      "name": "Untitled8.ipynb",
      "provenance": []
    },
    "kernelspec": {
      "name": "python3",
      "display_name": "Python 3"
    }
  },
  "cells": [
    {
      "cell_type": "code",
      "metadata": {
        "id": "9DVWLYaPzzI2",
        "colab_type": "code",
        "colab": {
          "base_uri": "https://localhost:8080/",
          "height": 102
        },
        "outputId": "81c2d578-1572-424b-882a-89854b599f0c"
      },
      "source": [
        "sum=0\n",
        "for i in range(1,10,2):\n",
        "      sum=sum+i\n",
        "      print(\"When i is\",i,\",the sum is\",sum)\n",
        "      "
      ],
      "execution_count": 4,
      "outputs": [
        {
          "output_type": "stream",
          "text": [
            "When i is 1 ,the sum is 1\n",
            "When i is 3 ,the sum is 4\n",
            "When i is 5 ,the sum is 9\n",
            "When i is 7 ,the sum is 16\n",
            "When i is 9 ,the sum is 25\n"
          ],
          "name": "stdout"
        }
      ]
    },
    {
      "cell_type": "code",
      "metadata": {
        "id": "yfJHxf-R308W",
        "colab_type": "code",
        "colab": {}
      },
      "source": [
        "sum=0\n",
        "for i in range(1, n+1, 1):\n",
        "    sum=sum+i**2\n",
        "    print(sum)"
      ],
      "execution_count": 0,
      "outputs": []
    },
    {
      "cell_type": "code",
      "metadata": {
        "id": "FUG8ED4M39C5",
        "colab_type": "code",
        "colab": {}
      },
      "source": [
        "start=3\n",
        "end=13\n",
        "step=3\n",
        "sum=0\n",
        "for i in range(start,end,step)\n",
        "       sum=sum+1\n",
        "       print(sum)\n",
        "       "
      ],
      "execution_count": 0,
      "outputs": []
    },
    {
      "cell_type": "code",
      "metadata": {
        "id": "5CCUH3iB19nK",
        "colab_type": "code",
        "colab": {
          "base_uri": "https://localhost:8080/",
          "height": 54
        },
        "outputId": "62d59f93-373d-46a1-c7db-008ba821434f"
      },
      "source": [
        "for i in range(1,10,1):\n",
        "    for j in range(1,10,1):\n",
        "       print(i,j,'=',i*j,'\\t',sep='',end='')"
      ],
      "execution_count": 12,
      "outputs": [
        {
          "output_type": "stream",
          "text": [
            "11=1\t12=2\t13=3\t14=4\t15=5\t16=6\t17=7\t18=8\t19=9\t21=2\t22=4\t23=6\t24=8\t25=10\t26=12\t27=14\t28=16\t29=18\t31=3\t32=6\t33=9\t34=12\t35=15\t36=18\t37=21\t38=24\t39=27\t41=4\t42=8\t43=12\t44=16\t45=20\t46=24\t47=28\t48=32\t49=36\t51=5\t52=10\t53=15\t54=20\t55=25\t56=30\t57=35\t58=40\t59=45\t61=6\t62=12\t63=18\t64=24\t65=30\t66=36\t67=42\t68=48\t69=54\t71=7\t72=14\t73=21\t74=28\t75=35\t76=42\t77=49\t78=56\t79=63\t81=8\t82=16\t83=24\t84=32\t85=40\t86=48\t87=56\t88=64\t89=72\t91=9\t92=18\t93=27\t94=36\t95=45\t96=54\t97=63\t98=72\t99=81\t"
          ],
          "name": "stdout"
        }
      ]
    },
    {
      "cell_type": "code",
      "metadata": {
        "id": "343AsI8l2wNB",
        "colab_type": "code",
        "colab": {}
      },
      "source": [
        "for i in ranfe(6):\n",
        "    print(i)\n",
        "    if i ==3"
      ],
      "execution_count": 0,
      "outputs": []
    },
    {
      "cell_type": "code",
      "metadata": {
        "id": "Q1kXIqZv3W4o",
        "colab_type": "code",
        "colab": {}
      },
      "source": [
        "n=0\n",
        "for i i in range(6):\n",
        "    print(i)\n",
        "    if i %2==0:\n",
        "      print(i,\"is even\")\n",
        "      else:\n",
        "       continue\n",
        "       print(i,\"is odd\")"
      ],
      "execution_count": 0,
      "outputs": []
    },
    {
      "cell_type": "code",
      "metadata": {
        "id": "LQ1Foq_Q4B13",
        "colab_type": "code",
        "colab": {}
      },
      "source": [
        ""
      ],
      "execution_count": 0,
      "outputs": []
    }
  ]
}